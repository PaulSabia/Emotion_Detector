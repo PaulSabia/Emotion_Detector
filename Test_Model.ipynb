{
 "cells": [
  {
   "cell_type": "code",
   "execution_count": 4,
   "metadata": {},
   "outputs": [],
   "source": [
    "import numpy as np\n",
    "import pandas as pd\n",
    "import matplotlib.pyplot as plt\n",
    "import cv2\n",
    "import os\n",
    "import tensorflow as tf\n",
    "from tensorflow import keras"
   ]
  },
  {
   "cell_type": "markdown",
   "metadata": {},
   "source": [
    "# Test Images"
   ]
  },
  {
   "cell_type": "code",
   "execution_count": null,
   "metadata": {},
   "outputs": [],
   "source": [
    "model = keras.models.load_model('emotions_classifer_2')\n",
    "\n",
    "emotion = {0: 'angry', 1: 'disgust', 2: 'fear', 3: 'happy', 4: 'sad', 5: 'surprise', 6: 'neutral'}\n",
    "\n",
    "def test_images(model, nbr_images_folder=2, emotion_dict=emotion):\n",
    "    path = os.getcwd()+'/dataset/test'\n",
    "    plt.figure(figsize=(18, 8))\n",
    "    num_axe = 1 \n",
    "\n",
    "    for folder in os.listdir(path):\n",
    "        path_2 = path+f'/{folder}'\n",
    "        label_true = folder\n",
    "        for i, image in enumerate(os.listdir(path_2)):\n",
    "            if i == nbr_images_folder:\n",
    "                break\n",
    "\n",
    "            img = cv2.imread(path_2+f'/{image}', 0)\n",
    "            ax = plt.subplot(2,7,num_axe)\n",
    "            num_axe += 1\n",
    "\n",
    "            img_to_pred = img\n",
    "            img_to_pred = img_to_pred.reshape(1, 48, 48, 1)\n",
    "            img_to_pred = img_to_pred.astype(\"float32\")\n",
    "            img_to_pred /= 255\n",
    "            prediction = (model.predict(img_to_pred) > 0.5).astype(\"int32\")\n",
    "            prediction = prediction[0]\n",
    "            try:\n",
    "                pred = np.where(prediction == 1)[0][0]\n",
    "                pred_text = emotion_dict[pred]\n",
    "            except:\n",
    "                break\n",
    "            ax.imshow(img, cmap='gray')\n",
    "            ax.set_title(f'True:{label_true}, Pred:{pred_text}')\n",
    "            ax.set_xticks([])\n",
    "            ax.set_yticks([])\n",
    "            plt.tight_layout()"
   ]
  },
  {
   "cell_type": "code",
   "execution_count": null,
   "metadata": {},
   "outputs": [],
   "source": [
    "test_images(model)"
   ]
  },
  {
   "cell_type": "markdown",
   "metadata": {},
   "source": [
    "# Test Vidéo"
   ]
  },
  {
   "cell_type": "code",
   "execution_count": 5,
   "metadata": {},
   "outputs": [],
   "source": [
    "face_cascade = cv2.CascadeClassifier('haarcascade_frontalface_default.xml')"
   ]
  },
  {
   "cell_type": "code",
   "execution_count": 3,
   "metadata": {},
   "outputs": [],
   "source": [
    "cap = cv2.VideoCapture(0)\n",
    "\n",
    "while(True):\n",
    "    # Capture frame-by-frame\n",
    "    ret, frame = cap.read()\n",
    "    gray = cv2.cvtColor(frame, cv2.COLOR_BGR2GRAY)\n",
    "    \n",
    "    # Detect face\n",
    "    faces = face_cascade.detectMultiScale(gray, 1.3, 5)\n",
    "\n",
    "    for (x,y,w,h) in faces:\n",
    "        cv2.rectangle(frame,(x,y),(x+w,y+h),(255,0,0),2)\n",
    "        frame_to_predict = gray[y:y+h, x:x+w]\n",
    "        frame_to_predict = cv2.resize(frame_to_predict, (48, 48))\n",
    "        frame_to_predict = np.array(frame_to_predict)\n",
    "        frame_to_predict = frame_to_predict.reshape(1, 48, 48, 1)\n",
    "        frame_to_predict = frame_to_predict.astype(\"float32\")\n",
    "        frame_to_predict /= 255\n",
    "    \n",
    "        try:\n",
    "            prediction = (model.predict(frame_to_predict) > 0.5).astype(\"int32\")\n",
    "            prediction = prediction[0]\n",
    "            pred = np.where(prediction == 1)[0][0]\n",
    "            pred_text = emotion[pred]\n",
    "            cv2.putText(frame, pred_text, (x, y-10), cv2.FONT_HERSHEY_SIMPLEX, 0.9, (255,0,0), 2)\n",
    "        except:\n",
    "            continue\n",
    "    \n",
    "    cv2.imshow('frame',frame)\n",
    "    if cv2.waitKey(1) & 0xFF == ord('q'):\n",
    "        break\n",
    "\n",
    "# When everything done, release the capture\n",
    "cap.release()\n",
    "cv2.destroyAllWindows()"
   ]
  },
  {
   "cell_type": "code",
   "execution_count": 15,
   "metadata": {},
   "outputs": [],
   "source": []
  },
  {
   "cell_type": "code",
   "execution_count": null,
   "metadata": {},
   "outputs": [],
   "source": []
  }
 ],
 "metadata": {
  "kernelspec": {
   "display_name": "Python 3",
   "language": "python",
   "name": "python3"
  },
  "language_info": {
   "codemirror_mode": {
    "name": "ipython",
    "version": 3
   },
   "file_extension": ".py",
   "mimetype": "text/x-python",
   "name": "python",
   "nbconvert_exporter": "python",
   "pygments_lexer": "ipython3",
   "version": "3.8.3"
  }
 },
 "nbformat": 4,
 "nbformat_minor": 4
}
