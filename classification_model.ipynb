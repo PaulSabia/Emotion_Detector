{
 "cells": [
  {
   "cell_type": "markdown",
   "metadata": {},
   "source": [
    "# Emotions Classifier\n",
    "\n",
    "## Connection au Google Drive"
   ]
  },
  {
   "cell_type": "code",
   "execution_count": null,
   "metadata": {
    "colab": {
     "base_uri": "https://localhost:8080/"
    },
    "id": "6BT8HQW_O9ee",
    "outputId": "d9955b53-b566-4941-d212-d2b933cf3844"
   },
   "outputs": [
    {
     "name": "stdout",
     "output_type": "stream",
     "text": [
      "Drive already mounted at /content/gdrive; to attempt to forcibly remount, call drive.mount(\"/content/gdrive\", force_remount=True).\n",
      "/content\n"
     ]
    }
   ],
   "source": [
    "from google.colab import drive\n",
    "drive.mount('/content/gdrive')\n",
    "%cd '/content'"
   ]
  },
  {
   "cell_type": "markdown",
   "metadata": {},
   "source": [
    "## \"Dezippage\" du Dataset depuis la VM"
   ]
  },
  {
   "cell_type": "code",
   "execution_count": null,
   "metadata": {
    "colab": {
     "base_uri": "https://localhost:8080/"
    },
    "id": "n68Q-p4NOo6J",
    "outputId": "1263a74b-869d-4e34-9533-23dba1011d86"
   },
   "outputs": [
    {
     "name": "stdout",
     "output_type": "stream",
     "text": [
      "data  gdrive  sample_data\n"
     ]
    }
   ],
   "source": [
    "# Better copy data from Drive as an archive\n",
    "zip_path = '/content/gdrive/My Drive/Emotions/dataset/data.zip'\n",
    "\n",
    "!cp \"{zip_path}\" .\n",
    "\n",
    "!unzip -q data.zip\n",
    "\n",
    "# Remove .zip file after you unzip it\n",
    "!rm data.zip\n",
    "\n",
    "# Make sure it's there\n",
    "!ls"
   ]
  },
  {
   "cell_type": "markdown",
   "metadata": {},
   "source": [
    "## Import des modules "
   ]
  },
  {
   "cell_type": "code",
   "execution_count": null,
   "metadata": {
    "id": "NnXh06X1On1z"
   },
   "outputs": [],
   "source": [
    "import numpy as np\n",
    "import pandas as pd\n",
    "import matplotlib.pyplot\n",
    "import cv2\n",
    "import os\n",
    "import glob\n",
    "from tensorflow.keras.utils import to_categorical  \n",
    "from tensorflow.keras.optimizers import Adam\n",
    "from tensorflow.keras.callbacks import Callback, EarlyStopping, ReduceLROnPlateau"
   ]
  },
  {
   "cell_type": "code",
   "execution_count": null,
   "metadata": {
    "id": "Ywjo2-9DOn18"
   },
   "outputs": [],
   "source": [
    "emotion = {'angry': 0, 'disgust': 1, 'fear': 2, 'happy': 3,\n",
    "           'sad': 4, 'surprise': 5, 'neutral': 6}"
   ]
  },
  {
   "cell_type": "markdown",
   "metadata": {},
   "source": [
    "## Création des matrices de features et labels"
   ]
  },
  {
   "cell_type": "code",
   "execution_count": null,
   "metadata": {
    "colab": {
     "base_uri": "https://localhost:8080/"
    },
    "id": "KNjvldhFOn19",
    "outputId": "6951eb9e-5a75-41fd-992c-c85f99d8729d"
   },
   "outputs": [
    {
     "name": "stdout",
     "output_type": "stream",
     "text": [
      "Lecture path :  /content/data/train/sad\n",
      "Lecture path :  /content/data/train/neutral\n",
      "Lecture path :  /content/data/train/surprise\n",
      "Lecture path :  /content/data/train/angry\n",
      "Lecture path :  /content/data/train/disgust\n",
      "Lecture path :  /content/data/train/happy\n",
      "Lecture path :  /content/data/train/fear\n",
      "Lecture path :  /content/data/test/sad\n",
      "Lecture path :  /content/data/test/neutral\n",
      "Lecture path :  /content/data/test/surprise\n",
      "Lecture path :  /content/data/test/angry\n",
      "Lecture path :  /content/data/test/disgust\n",
      "Lecture path :  /content/data/test/happy\n",
      "Lecture path :  /content/data/test/fear\n"
     ]
    }
   ],
   "source": [
    "def create_x_y(test=False):\n",
    "    X = []\n",
    "    y = []\n",
    "    if test:\n",
    "        path = os.getcwd()+'/dataset/test'\n",
    "    else:\n",
    "        path = os.getcwd()+'/dataset/train'\n",
    "    labels_folders = os.listdir(path)\n",
    "    for folder in labels_folders:\n",
    "        path_2 = path+f'/{folder}'\n",
    "        print('Lecture path : ', path_2)\n",
    "        images = [cv2.imread(file, 0) for file in glob.glob(f'{path_2}/*.jpg')]\n",
    "        for image in images:\n",
    "            img = cv2.resize(image, (48, 48))\n",
    "            X.append(img)\n",
    "            y.append(emotion[folder])\n",
    "    X = np.array(X)\n",
    "    X = X.reshape(X.shape[0], 48, 48,1)\n",
    "    X = X.astype(\"float32\")\n",
    "    X /= 255\n",
    "    return X, np.array(y) \n",
    "\n",
    "X_train, y_train = create_x_y()\n",
    "X_test, y_test = create_x_y(test=True)"
   ]
  },
  {
   "cell_type": "code",
   "execution_count": null,
   "metadata": {
    "id": "3fcdVMQtOn1_"
   },
   "outputs": [],
   "source": [
    "y_train = to_categorical(y_train, 7)\n",
    "y_test = to_categorical(y_test, 7)"
   ]
  },
  {
   "cell_type": "code",
   "execution_count": null,
   "metadata": {
    "colab": {
     "base_uri": "https://localhost:8080/"
    },
    "id": "3GFXYjjHOn1_",
    "outputId": "d80ea5d8-ce80-4274-ab74-be3a24b92fa7"
   },
   "outputs": [
    {
     "name": "stdout",
     "output_type": "stream",
     "text": [
      "(28709, 48, 48, 1)\n",
      "(7178, 48, 48, 1)\n",
      "(28709, 7)\n",
      "(7178, 7)\n"
     ]
    }
   ],
   "source": [
    "print(X_train.shape)\n",
    "print(X_test.shape)\n",
    "print(y_train.shape)\n",
    "print(y_test.shape)"
   ]
  },
  {
   "cell_type": "markdown",
   "metadata": {},
   "source": [
    "## Mélange aléatoire des features et labels train / test"
   ]
  },
  {
   "cell_type": "code",
   "execution_count": null,
   "metadata": {
    "id": "JkR_tA_AOn2A"
   },
   "outputs": [],
   "source": [
    "indices_train = np.arange(X_train.shape[0])\n",
    "np.random.shuffle(indices_train)\n",
    "\n",
    "X_train = X_train[indices_train]\n",
    "y_train = y_train[indices_train]"
   ]
  },
  {
   "cell_type": "code",
   "execution_count": null,
   "metadata": {
    "id": "rFm6QoCBOn2A"
   },
   "outputs": [],
   "source": [
    "indices_test = np.arange(X_test.shape[0])\n",
    "np.random.shuffle(indices_test)\n",
    "\n",
    "X_test = X_test[indices_test]\n",
    "y_test = y_test[indices_test]"
   ]
  },
  {
   "cell_type": "markdown",
   "metadata": {},
   "source": [
    "## Définition du modèle"
   ]
  },
  {
   "cell_type": "code",
   "execution_count": null,
   "metadata": {
    "id": "dBFago0vOn2A"
   },
   "outputs": [],
   "source": [
    "import tensorflow as tf\n",
    "from tensorflow import keras\n",
    "from tensorflow.keras import models, layers\n",
    "from tensorflow.keras.preprocessing.image import ImageDataGenerator\n",
    "from tensorflow.keras.optimizers import Adam\n",
    "from sklearn.metrics import accuracy_score, confusion_matrix"
   ]
  },
  {
   "cell_type": "code",
   "execution_count": null,
   "metadata": {
    "id": "JMlTwcfHvC8b"
   },
   "outputs": [],
   "source": [
    "model = models.Sequential()\n",
    "model.add(layers.Conv2D(64,kernel_size=(5,5),input_shape=(48, 48, 1),activation='elu', padding='same', kernel_initializer='he_normal'))\n",
    "model.add(layers.BatchNormalization())\n",
    "model.add(layers.Conv2D(64, kernel_size=(5,5), activation='elu', padding='same', kernel_initializer='he_normal'))\n",
    "model.add(layers.BatchNormalization())\n",
    "model.add(layers.MaxPooling2D(pool_size=(2,2)))\n",
    "model.add(layers.Dropout(0.4))\n",
    "model.add(layers.Conv2D(128, kernel_size=(3,3), activation='elu', padding='same', kernel_initializer='he_normal'))\n",
    "model.add(layers.BatchNormalization())\n",
    "model.add(layers.Conv2D(128, kernel_size=(3,3), activation='elu', padding='same', kernel_initializer='he_normal'))\n",
    "model.add(layers.BatchNormalization())\n",
    "model.add(layers.MaxPooling2D(pool_size=(2,2)))\n",
    "model.add(layers.Dropout(0.4))\n",
    "model.add(layers.Conv2D(256, kernel_size=(3,3), activation='elu', padding='same', kernel_initializer='he_normal'))\n",
    "model.add(layers.BatchNormalization(name='batchnorm_5'))\n",
    "model.add(layers.Conv2D(256, kernel_size=(3,3), activation='elu', padding='same', kernel_initializer='he_normal'))\n",
    "model.add(layers.BatchNormalization())\n",
    "model.add(layers.MaxPooling2D(pool_size=(2,2)))\n",
    "model.add(layers.Dropout(0.5))\n",
    "model.add(layers.Flatten())\n",
    "model.add(layers.Dense(128, activation='elu', kernel_initializer='he_normal'))\n",
    "model.add(layers.BatchNormalization())\n",
    "model.add(layers.Dropout(0.6))\n",
    "model.add(layers.Dense(7, activation='softmax')\n",
    ")"
   ]
  },
  {
   "cell_type": "code",
   "execution_count": null,
   "metadata": {
    "colab": {
     "base_uri": "https://localhost:8080/"
    },
    "id": "si2S9cTaOn2B",
    "outputId": "ca284874-673c-48f7-e1a1-3d57b39b6772"
   },
   "outputs": [
    {
     "name": "stdout",
     "output_type": "stream",
     "text": [
      "Model: \"sequential_3\"\n",
      "_________________________________________________________________\n",
      "Layer (type)                 Output Shape              Param #   \n",
      "=================================================================\n",
      "conv2d_18 (Conv2D)           (None, 48, 48, 64)        1664      \n",
      "_________________________________________________________________\n",
      "batch_normalization_18 (Batc (None, 48, 48, 64)        256       \n",
      "_________________________________________________________________\n",
      "conv2d_19 (Conv2D)           (None, 48, 48, 64)        102464    \n",
      "_________________________________________________________________\n",
      "batch_normalization_19 (Batc (None, 48, 48, 64)        256       \n",
      "_________________________________________________________________\n",
      "max_pooling2d_9 (MaxPooling2 (None, 24, 24, 64)        0         \n",
      "_________________________________________________________________\n",
      "dropout_12 (Dropout)         (None, 24, 24, 64)        0         \n",
      "_________________________________________________________________\n",
      "conv2d_20 (Conv2D)           (None, 24, 24, 128)       73856     \n",
      "_________________________________________________________________\n",
      "batch_normalization_20 (Batc (None, 24, 24, 128)       512       \n",
      "_________________________________________________________________\n",
      "conv2d_21 (Conv2D)           (None, 24, 24, 128)       147584    \n",
      "_________________________________________________________________\n",
      "batch_normalization_21 (Batc (None, 24, 24, 128)       512       \n",
      "_________________________________________________________________\n",
      "max_pooling2d_10 (MaxPooling (None, 12, 12, 128)       0         \n",
      "_________________________________________________________________\n",
      "dropout_13 (Dropout)         (None, 12, 12, 128)       0         \n",
      "_________________________________________________________________\n",
      "conv2d_22 (Conv2D)           (None, 12, 12, 256)       295168    \n",
      "_________________________________________________________________\n",
      "batchnorm_5 (BatchNormalizat (None, 12, 12, 256)       1024      \n",
      "_________________________________________________________________\n",
      "conv2d_23 (Conv2D)           (None, 12, 12, 256)       590080    \n",
      "_________________________________________________________________\n",
      "batch_normalization_22 (Batc (None, 12, 12, 256)       1024      \n",
      "_________________________________________________________________\n",
      "max_pooling2d_11 (MaxPooling (None, 6, 6, 256)         0         \n",
      "_________________________________________________________________\n",
      "dropout_14 (Dropout)         (None, 6, 6, 256)         0         \n",
      "_________________________________________________________________\n",
      "flatten_3 (Flatten)          (None, 9216)              0         \n",
      "_________________________________________________________________\n",
      "dense_6 (Dense)              (None, 128)               1179776   \n",
      "_________________________________________________________________\n",
      "batch_normalization_23 (Batc (None, 128)               512       \n",
      "_________________________________________________________________\n",
      "dropout_15 (Dropout)         (None, 128)               0         \n",
      "_________________________________________________________________\n",
      "dense_7 (Dense)              (None, 7)                 903       \n",
      "=================================================================\n",
      "Total params: 2,395,591\n",
      "Trainable params: 2,393,543\n",
      "Non-trainable params: 2,048\n",
      "_________________________________________________________________\n"
     ]
    }
   ],
   "source": [
    "model.summary()"
   ]
  },
  {
   "cell_type": "code",
   "execution_count": null,
   "metadata": {
    "id": "fGGmF-9OOn2C"
   },
   "outputs": [],
   "source": [
    "model.compile(loss='categorical_crossentropy', optimizer='adam', metrics=['accuracy'])"
   ]
  },
  {
   "cell_type": "code",
   "execution_count": null,
   "metadata": {
    "colab": {
     "base_uri": "https://localhost:8080/"
    },
    "id": "ABusIXtNOn2C",
    "outputId": "253811a0-c635-4545-bfc0-ca112e6cd41d"
   },
   "outputs": [
    {
     "name": "stdout",
     "output_type": "stream",
     "text": [
      "Epoch 1/100\n",
      "897/897 [==============================] - 21s 24ms/step - loss: 0.8688 - accuracy: 0.6817 - val_loss: 0.8978 - val_accuracy: 0.6831\n",
      "Epoch 2/100\n",
      "897/897 [==============================] - 21s 24ms/step - loss: 0.8727 - accuracy: 0.6805 - val_loss: 0.8954 - val_accuracy: 0.6832\n",
      "Epoch 3/100\n",
      "897/897 [==============================] - 21s 24ms/step - loss: 0.8655 - accuracy: 0.6849 - val_loss: 0.8964 - val_accuracy: 0.6828\n",
      "Epoch 4/100\n",
      "897/897 [==============================] - 21s 24ms/step - loss: 0.8683 - accuracy: 0.6807 - val_loss: 0.9029 - val_accuracy: 0.6800\n",
      "Epoch 5/100\n",
      "897/897 [==============================] - 22s 24ms/step - loss: 0.8588 - accuracy: 0.6859 - val_loss: 0.9055 - val_accuracy: 0.6783\n",
      "Epoch 6/100\n",
      "897/897 [==============================] - 22s 24ms/step - loss: 0.8552 - accuracy: 0.6862 - val_loss: 0.8986 - val_accuracy: 0.6793\n",
      "Epoch 7/100\n",
      "897/897 [==============================] - 22s 24ms/step - loss: 0.8577 - accuracy: 0.6849 - val_loss: 0.8986 - val_accuracy: 0.6828\n",
      "Epoch 8/100\n",
      "897/897 [==============================] - 22s 24ms/step - loss: 0.8501 - accuracy: 0.6885 - val_loss: 0.9022 - val_accuracy: 0.6796\n",
      "Epoch 9/100\n",
      "897/897 [==============================] - 22s 24ms/step - loss: 0.8509 - accuracy: 0.6863 - val_loss: 0.9013 - val_accuracy: 0.6828\n",
      "\n",
      "Epoch 00009: ReduceLROnPlateau reducing learning rate to 0.0001250000059371814.\n",
      "Epoch 10/100\n",
      "897/897 [==============================] - 22s 24ms/step - loss: 0.8448 - accuracy: 0.6897 - val_loss: 0.9007 - val_accuracy: 0.6811\n",
      "Epoch 11/100\n",
      "897/897 [==============================] - 22s 24ms/step - loss: 0.8413 - accuracy: 0.6923 - val_loss: 0.9049 - val_accuracy: 0.6810\n",
      "Epoch 12/100\n",
      "897/897 [==============================] - 22s 24ms/step - loss: 0.8425 - accuracy: 0.6926 - val_loss: 0.9018 - val_accuracy: 0.6836\n",
      "Epoch 13/100\n",
      "897/897 [==============================] - 22s 24ms/step - loss: 0.8359 - accuracy: 0.6935 - val_loss: 0.8995 - val_accuracy: 0.6847\n",
      "Epoch 14/100\n",
      "897/897 [==============================] - 22s 24ms/step - loss: 0.8382 - accuracy: 0.6925 - val_loss: 0.9048 - val_accuracy: 0.6824\n",
      "Epoch 15/100\n",
      "897/897 [==============================] - 22s 24ms/step - loss: 0.8343 - accuracy: 0.6941 - val_loss: 0.8990 - val_accuracy: 0.6828\n",
      "Epoch 16/100\n",
      "897/897 [==============================] - 22s 24ms/step - loss: 0.8324 - accuracy: 0.6963 - val_loss: 0.9073 - val_accuracy: 0.6810\n",
      "Epoch 17/100\n",
      "897/897 [==============================] - 22s 24ms/step - loss: 0.8383 - accuracy: 0.6951 - val_loss: 0.8967 - val_accuracy: 0.6817\n",
      "Epoch 18/100\n",
      "897/897 [==============================] - 22s 24ms/step - loss: 0.8325 - accuracy: 0.6967 - val_loss: 0.8978 - val_accuracy: 0.6847\n",
      "Epoch 19/100\n",
      "897/897 [==============================] - 22s 24ms/step - loss: 0.8338 - accuracy: 0.6968 - val_loss: 0.8983 - val_accuracy: 0.6860\n",
      "Epoch 20/100\n",
      "897/897 [==============================] - 22s 24ms/step - loss: 0.8257 - accuracy: 0.6973 - val_loss: 0.8986 - val_accuracy: 0.6822\n",
      "Epoch 21/100\n",
      "897/897 [==============================] - 22s 24ms/step - loss: 0.8339 - accuracy: 0.6952 - val_loss: 0.8994 - val_accuracy: 0.6853\n",
      "Epoch 22/100\n",
      "897/897 [==============================] - 22s 24ms/step - loss: 0.8251 - accuracy: 0.6977 - val_loss: 0.9011 - val_accuracy: 0.6865\n",
      "Epoch 23/100\n",
      "897/897 [==============================] - 22s 24ms/step - loss: 0.8315 - accuracy: 0.6972 - val_loss: 0.9011 - val_accuracy: 0.6829\n",
      "Epoch 24/100\n",
      "897/897 [==============================] - 22s 24ms/step - loss: 0.8235 - accuracy: 0.6983 - val_loss: 0.9030 - val_accuracy: 0.6842\n",
      "Epoch 25/100\n",
      "897/897 [==============================] - 22s 24ms/step - loss: 0.8327 - accuracy: 0.6991 - val_loss: 0.9053 - val_accuracy: 0.6817\n",
      "Epoch 26/100\n",
      "897/897 [==============================] - 22s 24ms/step - loss: 0.8293 - accuracy: 0.6965 - val_loss: 0.9006 - val_accuracy: 0.6839\n",
      "Epoch 27/100\n",
      "897/897 [==============================] - 22s 24ms/step - loss: 0.8210 - accuracy: 0.7009 - val_loss: 0.9014 - val_accuracy: 0.6868\n",
      "Epoch 28/100\n",
      "897/897 [==============================] - 22s 24ms/step - loss: 0.8221 - accuracy: 0.6998 - val_loss: 0.8955 - val_accuracy: 0.6881\n",
      "Epoch 29/100\n",
      "897/897 [==============================] - 22s 24ms/step - loss: 0.8223 - accuracy: 0.7018 - val_loss: 0.8983 - val_accuracy: 0.6842\n",
      "Epoch 30/100\n",
      "897/897 [==============================] - 22s 24ms/step - loss: 0.8205 - accuracy: 0.7039 - val_loss: 0.8980 - val_accuracy: 0.6867\n",
      "Epoch 31/100\n",
      "897/897 [==============================] - 22s 24ms/step - loss: 0.8217 - accuracy: 0.6994 - val_loss: 0.9046 - val_accuracy: 0.6863\n",
      "Epoch 32/100\n",
      "897/897 [==============================] - 22s 24ms/step - loss: 0.8161 - accuracy: 0.7024 - val_loss: 0.9052 - val_accuracy: 0.6853\n",
      "Epoch 33/100\n",
      "897/897 [==============================] - 22s 24ms/step - loss: 0.8092 - accuracy: 0.7029 - val_loss: 0.9034 - val_accuracy: 0.6867\n",
      "Epoch 34/100\n",
      "897/897 [==============================] - 22s 24ms/step - loss: 0.8150 - accuracy: 0.7044 - val_loss: 0.9013 - val_accuracy: 0.6870\n",
      "Epoch 35/100\n",
      "897/897 [==============================] - 22s 24ms/step - loss: 0.8214 - accuracy: 0.6998 - val_loss: 0.8980 - val_accuracy: 0.6871\n",
      "\n",
      "Epoch 00035: ReduceLROnPlateau reducing learning rate to 6.25000029685907e-05.\n",
      "Epoch 36/100\n",
      "897/897 [==============================] - 22s 24ms/step - loss: 0.8130 - accuracy: 0.7041 - val_loss: 0.8957 - val_accuracy: 0.6871\n",
      "Epoch 37/100\n",
      "897/897 [==============================] - 22s 24ms/step - loss: 0.8250 - accuracy: 0.6967 - val_loss: 0.8942 - val_accuracy: 0.6870\n",
      "Epoch 38/100\n",
      "897/897 [==============================] - 22s 24ms/step - loss: 0.8149 - accuracy: 0.7034 - val_loss: 0.9002 - val_accuracy: 0.6846\n",
      "Epoch 39/100\n",
      "897/897 [==============================] - 22s 24ms/step - loss: 0.8102 - accuracy: 0.7061 - val_loss: 0.9021 - val_accuracy: 0.6861\n",
      "Restoring model weights from the end of the best epoch.\n",
      "Epoch 00039: early stopping\n"
     ]
    },
    {
     "data": {
      "text/plain": [
       "<tensorflow.python.keras.callbacks.History at 0x7feeae069f90>"
      ]
     },
     "execution_count": 73,
     "metadata": {
      "tags": []
     },
     "output_type": "execute_result"
    }
   ],
   "source": [
    "batch_size = 32\n",
    "epochs = 100\n",
    "\n",
    "#Augmentation du dataset\n",
    "aug = ImageDataGenerator(\n",
    "    rotation_range=15,\n",
    "    width_shift_range=0.15,\n",
    "    height_shift_range=0.15,\n",
    "    shear_range=0.15,\n",
    "    zoom_range=0.15,\n",
    "    horizontal_flip=True,\n",
    ")\n",
    "\n",
    "aug.fit(X_train)\n",
    "\n",
    "#Arrête l'entrainement afin d'éviter le sur-appprentissage\n",
    "early_stopping = EarlyStopping(\n",
    "    monitor='val_accuracy',\n",
    "    min_delta=0.00005,\n",
    "    patience=11,\n",
    "    verbose=1,\n",
    "    restore_best_weights=True,\n",
    ")\n",
    "\n",
    "#Diminue le learning rate au cours de l'entrainement lorsque l'accuracy sur les données de validations à cessé de s'améliorer\n",
    "lr_scheduler = ReduceLROnPlateau(\n",
    "    monitor='val_accuracy',\n",
    "    factor=0.5,\n",
    "    patience=7,\n",
    "    min_lr=1e-7,\n",
    "    verbose=1,\n",
    ")\n",
    "\n",
    "callbacks = [early_stopping, lr_scheduler,\n",
    "]\n",
    "\n",
    "model.fit(aug.flow(X_train, y_train, batch_size=batch_size), epochs=epochs, steps_per_epoch=len(X_train) / batch_size, validation_data=(X_test, y_test), callbacks=callbacks)"
   ]
  },
  {
   "cell_type": "code",
   "execution_count": null,
   "metadata": {
    "colab": {
     "base_uri": "https://localhost:8080/"
    },
    "id": "9FZ9Pgq9On2D",
    "outputId": "6e2ae2a4-9279-48dd-ac3a-d9f027b8581d"
   },
   "outputs": [
    {
     "name": "stdout",
     "output_type": "stream",
     "text": [
      "INFO:tensorflow:Assets written to: /content/gdrive/My Drive/Emotions/emotions_classifer_2/assets\n"
     ]
    }
   ],
   "source": [
    "#!pip install pyyaml h5py\n",
    "model.save('/content/gdrive/My Drive/Emotions/emotions_classifer')"
   ]
  },
  {
   "cell_type": "markdown",
   "metadata": {
    "id": "qFAO3rWeOn2D"
   },
   "source": [
    "## Evaluation"
   ]
  },
  {
   "cell_type": "code",
   "execution_count": null,
   "metadata": {
    "colab": {
     "base_uri": "https://localhost:8080/"
    },
    "id": "D7fkBc2-On2D",
    "outputId": "3e9e9d85-e507-420c-edea-c76132180c2d"
   },
   "outputs": [
    {
     "name": "stdout",
     "output_type": "stream",
     "text": [
      "225/225 [==============================] - 2s 8ms/step - loss: 0.8955 - accuracy: 0.6881\n",
      "Précision :  0.6880746483802795\n"
     ]
    }
   ],
   "source": [
    "test_loss, test_acc = model.evaluate(X_test, y_test)\n",
    "\n",
    "print(\"Précision : \", test_acc)"
   ]
  },
  {
   "cell_type": "markdown",
   "metadata": {
    "id": "eEg7_v-GOn2E"
   },
   "source": [
    "## Predictions"
   ]
  },
  {
   "cell_type": "code",
   "execution_count": null,
   "metadata": {
    "id": "SkBDfuugOn2E"
   },
   "outputs": [],
   "source": [
    "predictions = (model.predict(X_test) > 0.5).astype(\"int32\")"
   ]
  },
  {
   "cell_type": "markdown",
   "metadata": {
    "id": "ZvtcG67WOn2E"
   },
   "source": [
    "## Matrice de confusion"
   ]
  },
  {
   "cell_type": "code",
   "execution_count": null,
   "metadata": {
    "colab": {
     "base_uri": "https://localhost:8080/"
    },
    "id": "lKIhBj9scv7q",
    "outputId": "61c54f5c-d8d2-4f05-faa8-49ee81d29d61"
   },
   "outputs": [
    {
     "name": "stdout",
     "output_type": "stream",
     "text": [
      "7178\n",
      "7178\n"
     ]
    }
   ],
   "source": [
    "print(len(predictions))\n",
    "print(len(y_test))"
   ]
  },
  {
   "cell_type": "code",
   "execution_count": null,
   "metadata": {
    "id": "SnZ_kcXAYh3j"
   },
   "outputs": [],
   "source": [
    "classes_pred = []\n",
    "classes_test = []\n",
    "\n",
    "for pred, test in zip(predictions, y_test):\n",
    "  try:\n",
    "    label_pred = np.where(pred == 1)[0][0]\n",
    "    label_test = np.where(test == 1)[0][0]\n",
    "    classes_pred.append(label_pred)\n",
    "    classes_test.append(label_test)\n",
    "  except:\n",
    "    continue\n"
   ]
  },
  {
   "cell_type": "code",
   "execution_count": null,
   "metadata": {
    "colab": {
     "base_uri": "https://localhost:8080/"
    },
    "id": "Ef_x3ELCZ9qm",
    "outputId": "541a79d6-aafa-4de8-bf23-07d4e9a52f88"
   },
   "outputs": [
    {
     "name": "stdout",
     "output_type": "stream",
     "text": [
      "5961\n",
      "5961\n"
     ]
    }
   ],
   "source": [
    "print(len(classes_pred))\n",
    "print(len(classes_test))"
   ]
  },
  {
   "cell_type": "code",
   "execution_count": null,
   "metadata": {
    "colab": {
     "base_uri": "https://localhost:8080/",
     "height": 627
    },
    "id": "-Gkr1Bl4On2E",
    "outputId": "d5a66773-c783-40de-c064-56db0f6ea09f"
   },
   "outputs": [
    {
     "data": {
      "image/png": "[encoded data removed]",
      "text/plain": [
       "<Figure size 720x720 with 2 Axes>"
      ]
     },
     "metadata": {
      "needs_background": "light",
      "tags": []
     },
     "output_type": "display_data"
    }
   ],
   "source": [
    "import matplotlib.pyplot as plt\n",
    "import seaborn as sns\n",
    "from sklearn import metrics\n",
    "\n",
    "cm = metrics.confusion_matrix(classes_test, classes_pred)\n",
    "plt.figure(figsize=(10,10))\n",
    "sns.heatmap(cm, annot=True, fmt=\".0f\", cmap = 'mako')\n",
    "plt.ylabel('Actual label')\n",
    "plt.xlabel('Predicted label')\n",
    "plt.title(\"Matrice de confusion\", size = 20)\n",
    "plt.show()"
   ]
  },
  {
   "cell_type": "code",
   "execution_count": null,
   "metadata": {
    "id": "5BKys89hTlkr"
   },
   "outputs": [],
   "source": []
  }
 ],
 "metadata": {
  "accelerator": "GPU",
  "colab": {
   "collapsed_sections": [],
   "name": "classification_model.ipynb",
   "provenance": []
  },
  "kernelspec": {
   "display_name": "Python 3",
   "language": "python",
   "name": "python3"
  },
  "language_info": {
   "codemirror_mode": {
    "name": "ipython",
    "version": 3
   },
   "file_extension": ".py",
   "mimetype": "text/x-python",
   "name": "python",
   "nbconvert_exporter": "python",
   "pygments_lexer": "ipython3",
   "version": "3.8.3"
  }
 },
 "nbformat": 4,
 "nbformat_minor": 1
}
